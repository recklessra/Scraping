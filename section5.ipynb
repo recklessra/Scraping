{
 "cells": [
  {
   "cell_type": "code",
   "execution_count": 20,
   "metadata": {},
   "outputs": [
    {
     "name": "stdout",
     "output_type": "stream",
     "text": [
      "2\n",
      "3\n",
      "4\n",
      "5\n"
     ]
    },
    {
     "ename": "AttributeError",
     "evalue": "'NoneType' object has no attribute 'text'",
     "output_type": "error",
     "traceback": [
      "\u001b[1;31m---------------------------------------------------------------------------\u001b[0m",
      "\u001b[1;31mAttributeError\u001b[0m                            Traceback (most recent call last)",
      "\u001b[1;32m<ipython-input-20-5be39486bff5>\u001b[0m in \u001b[0;36m<module>\u001b[1;34m()\u001b[0m\n\u001b[0;32m     27\u001b[0m         \u001b[0msleep\u001b[0m\u001b[1;33m(\u001b[0m\u001b[1;36m1\u001b[0m\u001b[1;33m)\u001b[0m\u001b[1;33m\u001b[0m\u001b[0m\n\u001b[0;32m     28\u001b[0m         \u001b[1;32mif\u001b[0m\u001b[1;33m(\u001b[0m\u001b[0mjob\u001b[0m\u001b[1;33m.\u001b[0m\u001b[0mfind\u001b[0m\u001b[1;33m(\u001b[0m\u001b[1;34m'a'\u001b[0m\u001b[1;33m)\u001b[0m\u001b[1;33m.\u001b[0m\u001b[0mget\u001b[0m\u001b[1;33m(\u001b[0m\u001b[1;34m'class'\u001b[0m\u001b[1;33m)\u001b[0m\u001b[1;33m[\u001b[0m\u001b[1;36m0\u001b[0m\u001b[1;33m]\u001b[0m \u001b[1;33m==\u001b[0m \u001b[1;34m'job'\u001b[0m\u001b[1;33m)\u001b[0m\u001b[1;33m:\u001b[0m\u001b[1;33m\u001b[0m\u001b[0m\n\u001b[1;32m---> 29\u001b[1;33m             \u001b[0mcompany_url\u001b[0m \u001b[1;33m=\u001b[0m \u001b[0mdetail_soup\u001b[0m\u001b[1;33m.\u001b[0m\u001b[0mfind\u001b[0m\u001b[1;33m(\u001b[0m\u001b[1;34m'a'\u001b[0m\u001b[1;33m,\u001b[0m \u001b[0mclass_\u001b[0m\u001b[1;33m=\u001b[0m\u001b[1;34m'previewOption'\u001b[0m\u001b[1;33m)\u001b[0m\u001b[1;33m.\u001b[0m\u001b[0mtext\u001b[0m\u001b[1;33m\u001b[0m\u001b[0m\n\u001b[0m\u001b[0;32m     30\u001b[0m             detam = {\n\u001b[0;32m     31\u001b[0m                 \u001b[1;34m'会社名'\u001b[0m\u001b[1;33m:\u001b[0m \u001b[0mcompany_name\u001b[0m\u001b[1;33m,\u001b[0m\u001b[1;33m\u001b[0m\u001b[0m\n",
      "\u001b[1;31mAttributeError\u001b[0m: 'NoneType' object has no attribute 'text'"
     ]
    }
   ],
   "source": [
    "import pandas as pd\n",
    "import requests\n",
    "from bs4 import BeautifulSoup\n",
    "from time import sleep\n",
    "\n",
    "url = 'https://employment.en-japan.com/wish/search_list/?companytype=0&worktype=0&areaid=23_24_21_50&occupation=101000_102500_103000_103500_104500_105000_105500_109000&indexNoWishArea=0&sort=wish'\n",
    "r = requests.get(url)\n",
    "r.raise_for_status()\n",
    "\n",
    "soup = BeautifulSoup(r.content, 'lxml')\n",
    "jobs = soup.find_all('div', class_='jobNameArea')\n",
    "\n",
    "deta = []\n",
    "next_page_flag = True\n",
    "next_page_num = 2\n",
    "\n",
    "while next_page_flag:\n",
    "    for job in jobs:\n",
    "        company_name = job.find('span', class_='company').text\n",
    "        page_url = 'https://employment.en-japan.com' + job.find('a').get('href')\n",
    "\n",
    "        detail_r = requests.get(page_url)\n",
    "        detail_r.raise_for_status()\n",
    "\n",
    "        detail_soup = BeautifulSoup(detail_r.content, 'lxml')\n",
    "\n",
    "        sleep(1)\n",
    "        if(job.find('a').get('class')[0] == 'job'):\n",
    "            company_url = detail_soup.find('a', class_='previewOption').text\n",
    "            detam = {\n",
    "                '会社名': company_name,\n",
    "                '企業ホームページ': company_url\n",
    "            }\n",
    "        else:\n",
    "            page_url2 = detail_soup.find('iframe').get('src')\n",
    "            detail_r2 = requests.get(page_url2)\n",
    "            detail_r2.raise_for_status()\n",
    "\n",
    "            sub_soup = BeautifulSoup(detail_r2.content, 'lxml')\n",
    "            com_table = sub_soup.find('table', class_='companyTable')\n",
    "            \n",
    "            try:\n",
    "                company_url = com_table.find('a').get('href')\n",
    "                detam = {\n",
    "                    '会社名': company_name,\n",
    "                    '企業ホームページ': company_url\n",
    "                }\n",
    "            except AttributeError as e:\n",
    "                detam = {\n",
    "                    '会社名': company_name,\n",
    "                    '企業ホームページ': ''\n",
    "                }\n",
    "        deta.append(detam)\n",
    "    try:\n",
    "        next_url = url + '&pagenum=' + str(next_page_num)\n",
    "        next_r = requests.get(next_url)\n",
    "        next_r.raise_for_status()\n",
    "        next_soup = BeautifulSoup(next_r.content, 'lxml')\n",
    "        jobs = next_soup.find_all('div', class_='jobNameArea')\n",
    "        #print(jobs)\n",
    "        print(next_page_num)\n",
    "        next_page_num += 1\n",
    "        sleep(1)\n",
    "    except requests.HTTPError as e:\n",
    "        next_page_flag = False\n",
    "\n",
    "df = pd.DataFrame(deta).reindex(columns=['会社名', '企業ホームページ'])\n",
    "# print(df)\n",
    "\n",
    "df.to_csv('section5.csv', index=None, encoding='utf-8-sig')"
   ]
  },
  {
   "cell_type": "code",
   "execution_count": 2,
   "metadata": {},
   "outputs": [
    {
     "name": "stdout",
     "output_type": "stream",
     "text": [
      "20\n",
      "21\n",
      "22\n",
      "23\n",
      "404 Client Error: Not Found for url: https://employment.en-japan.com/wish/search_list/?companytype=0&worktype=0&areaid=23_24_21_50&occupation=101000_102500_103000_103500_104500_105000_105500_109000&indexNoWishArea=0&sort=wish&pagenum=24\n",
      "end\n"
     ]
    }
   ],
   "source": [
    "import pandas as pd\n",
    "import requests\n",
    "from bs4 import BeautifulSoup\n",
    "from time import sleep\n",
    "from selenium import webdriver\n",
    "\n",
    "url = 'https://employment.en-japan.com/wish/search_list/?companytype=0&worktype=0&areaid=23_24_21_50&occupation=101000_102500_103000_103500_104500_105000_105500_109000&indexNoWishArea=0&sort=wish'\n",
    "r = requests.get(url)\n",
    "r.raise_for_status()\n",
    "\n",
    "soup = BeautifulSoup(r.content, 'lxml')\n",
    "jobs = soup.find_all('div', class_='jobNameArea')\n",
    "\n",
    "next_page_flag = True\n",
    "next_page_num = 20\n",
    "while next_page_flag:\n",
    "    try:\n",
    "        next_url = url + '&pagenum=' + str(next_page_num)\n",
    "        next_r = requests.get(next_url)\n",
    "        next_r.raise_for_status()\n",
    "        print(next_page_num)\n",
    "        next_page_num += 1\n",
    "        sleep(1)\n",
    "    except requests.HTTPError as e:\n",
    "        next_page_flag = False\n",
    "        print(e)\n",
    "print('end')\n",
    "        \n",
    "    \n"
   ]
  },
  {
   "cell_type": "code",
   "execution_count": null,
   "metadata": {},
   "outputs": [],
   "source": []
  }
 ],
 "metadata": {
  "kernelspec": {
   "display_name": "Python 3",
   "language": "python",
   "name": "python3"
  },
  "language_info": {
   "codemirror_mode": {
    "name": "ipython",
    "version": 3
   },
   "file_extension": ".py",
   "mimetype": "text/x-python",
   "name": "python",
   "nbconvert_exporter": "python",
   "pygments_lexer": "ipython3",
   "version": "3.6.5"
  }
 },
 "nbformat": 4,
 "nbformat_minor": 2
}
