{
 "cells": [
  {
   "cell_type": "code",
   "execution_count": 2,
   "metadata": {},
   "outputs": [
    {
     "name": "stdout",
     "output_type": "stream",
     "text": [
      "Requirement already satisfied: pandas in c:\\users\\takeuchi\\anaconda3\\lib\\site-packages (0.23.0)\n",
      "Requirement already satisfied: pytz>=2011k in c:\\users\\takeuchi\\anaconda3\\lib\\site-packages (from pandas) (2018.4)\n",
      "Requirement already satisfied: python-dateutil>=2.5.0 in c:\\users\\takeuchi\\anaconda3\\lib\\site-packages (from pandas) (2.7.3)\n",
      "Requirement already satisfied: numpy>=1.9.0 in c:\\users\\takeuchi\\anaconda3\\lib\\site-packages (from pandas) (1.14.3)\n",
      "Requirement already satisfied: six>=1.5 in c:\\users\\takeuchi\\anaconda3\\lib\\site-packages (from python-dateutil>=2.5.0->pandas) (1.11.0)\n"
     ]
    },
    {
     "name": "stderr",
     "output_type": "stream",
     "text": [
      "distributed 1.21.8 requires msgpack, which is not installed.\n",
      "You are using pip version 10.0.1, however version 21.3.1 is available.\n",
      "You should consider upgrading via the 'python -m pip install --upgrade pip' command.\n"
     ]
    }
   ],
   "source": [
    "!pip install pandas"
   ]
  },
  {
   "cell_type": "code",
   "execution_count": 11,
   "metadata": {},
   "outputs": [
    {
     "name": "stdout",
     "output_type": "stream",
     "text": [
      "    Fruit  Price\n",
      "0   Apple    100\n",
      "1  Banana    120\n",
      "2   Peach    150\n",
      "    Fruit  Price\n",
      "0   Apple    100\n",
      "1  Banana    120\n",
      "2   Peach    150\n"
     ]
    }
   ],
   "source": [
    "import pandas as pd\n",
    "\n",
    "df = pd.DataFrame({'Fruit': ['Apple', 'Banana', 'Peach'],\n",
    "                  'Price': [100, 120, 150]})\n",
    "print(df)\n",
    "\n",
    "df2 = pd.DataFrame([\n",
    "    {'Fruit': 'Apple', 'Price': 100},\n",
    "    {'Fruit': 'Banana', 'Price': 120},\n",
    "    {'Fruit': 'Peach', 'Price': 150}\n",
    "])\n",
    "\n",
    "print(df2)"
   ]
  },
  {
   "cell_type": "code",
   "execution_count": 17,
   "metadata": {},
   "outputs": [
    {
     "name": "stdout",
     "output_type": "stream",
     "text": [
      "         date                                              title  \\\n",
      "0  2022-11-23                                  Where is the PSF?   \n",
      "1  2022-11-15                     Python 3.12.0 alpha 2 released   \n",
      "2  2022-11-07  It's time for our annual year-end PSF fundrais...   \n",
      "3  2022-11-01     Thank You for Making PyCon US amazing, Jackie!   \n",
      "4  2022-10-26  Announcing Python Software Foundation Fellow M...   \n",
      "\n",
      "                                                 url  \n",
      "0  https://pyfound.blogspot.com/2022/11/where-is-...  \n",
      "1  https://pythoninsider.blogspot.com/2022/11/pyt...  \n",
      "2  https://pyfound.blogspot.com/2022/11/its-time-...  \n",
      "3  https://pyfound.blogspot.com/2022/11/thank-you...  \n",
      "4  https://pyfound.blogspot.com/2022/10/announcin...  \n"
     ]
    }
   ],
   "source": [
    "import pandas as pd\n",
    "import requests\n",
    "from bs4 import BeautifulSoup\n",
    "\n",
    "url = 'https://www.python.org/'\n",
    "r = requests.get(url)\n",
    "\n",
    "soup = BeautifulSoup(r.content, 'lxml')\n",
    "tag = soup.find('div', class_='shrubbery')\n",
    "\n",
    "d_list = []\n",
    "\n",
    "for li in tag.find_all('li'):\n",
    "    d = {\n",
    "        'title': li.find('a').text,\n",
    "        'url': li.find('a').get('href'),\n",
    "        'date': li.find('time').text\n",
    "    }\n",
    "    d_list.append(d)\n",
    "\n",
    "df = pd.DataFrame(d_list)\n",
    "print(df)\n",
    "\n",
    "#df.to_csv('python_web_posts.csv', index=None, encoding='utf-8-sig')\n",
    "df.to_excel('python_web_posts.xlsx', index=None, encoding='utf-8-sig')"
   ]
  },
  {
   "cell_type": "code",
   "execution_count": 16,
   "metadata": {},
   "outputs": [
    {
     "name": "stdout",
     "output_type": "stream",
     "text": [
      "Requirement already satisfied: openpyxl in c:\\users\\takeuchi\\anaconda3\\lib\\site-packages (2.5.3)\n",
      "Requirement already satisfied: jdcal in c:\\users\\takeuchi\\anaconda3\\lib\\site-packages (from openpyxl) (1.4)\n",
      "Requirement already satisfied: et_xmlfile in c:\\users\\takeuchi\\anaconda3\\lib\\site-packages (from openpyxl) (1.0.1)\n"
     ]
    },
    {
     "name": "stderr",
     "output_type": "stream",
     "text": [
      "distributed 1.21.8 requires msgpack, which is not installed.\n",
      "You are using pip version 10.0.1, however version 21.3.1 is available.\n",
      "You should consider upgrading via the 'python -m pip install --upgrade pip' command.\n"
     ]
    }
   ],
   "source": [
    "!pip install openpyxl"
   ]
  },
  {
   "cell_type": "code",
   "execution_count": 19,
   "metadata": {},
   "outputs": [
    {
     "name": "stdout",
     "output_type": "stream",
     "text": [
      "         date                                            post_h2  \\\n",
      "0  2022-11-23  [Wednesday, November 23, 2022, Where to Find t...   \n",
      "1  2022-11-15  [Tuesday, November 15, 2022, Subscribe, Relate...   \n",
      "2  2022-11-07  [Monday, November 07, 2022, Mission, PSF Spons...   \n",
      "3  2022-11-01  [Tuesday, November 01, 2022, Mission, PSF Spon...   \n",
      "4  2022-10-26  [Wednesday, October 26, 2022, Mission, PSF Spo...   \n",
      "\n",
      "                                               title  \\\n",
      "0                                  Where is the PSF?   \n",
      "1                     Python 3.12.0 alpha 2 released   \n",
      "2  It's time for our annual year-end PSF fundrais...   \n",
      "3     Thank You for Making PyCon US amazing, Jackie!   \n",
      "4  Announcing Python Software Foundation Fellow M...   \n",
      "\n",
      "                                                 url  \n",
      "0  https://pyfound.blogspot.com/2022/11/where-is-...  \n",
      "1  https://pythoninsider.blogspot.com/2022/11/pyt...  \n",
      "2  https://pyfound.blogspot.com/2022/11/its-time-...  \n",
      "3  https://pyfound.blogspot.com/2022/11/thank-you...  \n",
      "4  https://pyfound.blogspot.com/2022/10/announcin...  \n"
     ]
    }
   ],
   "source": [
    "import pandas as pd\n",
    "import requests\n",
    "from bs4 import BeautifulSoup\n",
    "\n",
    "from time import sleep\n",
    "\n",
    "url = 'https://www.python.org/'\n",
    "r = requests.get(url)\n",
    "\n",
    "soup = BeautifulSoup(r.content, 'lxml')\n",
    "post = soup.find('div', class_='shrubbery')\n",
    "\n",
    "d_list = []\n",
    "\n",
    "for li in post.find_all('li'):\n",
    "    post_url = li.find('a').get('href')\n",
    "    \n",
    "    sleep(2)\n",
    "    \n",
    "    post_r = requests.get(post_url)\n",
    "    post_soup = BeautifulSoup(post_r.content, 'lxml')\n",
    "    post_h2 = [h2.text for h2 in post_soup.find_all('h2')]\n",
    "    d = {\n",
    "        'title': li.find('a').text,\n",
    "        'url': post_url,\n",
    "        'date': li.find('time').text,\n",
    "        'post_h2': post_h2\n",
    "    }\n",
    "    d_list.append(d)\n",
    "\n",
    "df = pd.DataFrame(d_list)\n",
    "print(df)\n",
    "\n",
    "#df.to_csv('python_web_posts.csv', index=None, encoding='utf-8-sig')\n",
    "df.to_excel('python_web_posts.xlsx', index=None, encoding='utf-8-sig')"
   ]
  },
  {
   "cell_type": "code",
   "execution_count": null,
   "metadata": {},
   "outputs": [],
   "source": []
  }
 ],
 "metadata": {
  "kernelspec": {
   "display_name": "Python 3",
   "language": "python",
   "name": "python3"
  },
  "language_info": {
   "codemirror_mode": {
    "name": "ipython",
    "version": 3
   },
   "file_extension": ".py",
   "mimetype": "text/x-python",
   "name": "python",
   "nbconvert_exporter": "python",
   "pygments_lexer": "ipython3",
   "version": "3.6.5"
  }
 },
 "nbformat": 4,
 "nbformat_minor": 2
}
