{
 "cells": [
  {
   "cell_type": "code",
   "execution_count": 18,
   "metadata": {},
   "outputs": [
    {
     "name": "stdout",
     "output_type": "stream",
     "text": [
      "============================ 0 ============================\n",
      "タイトル： Where is the PSF?\n",
      "日付： 2022-11-23\n",
      "============================ 1 ============================\n",
      "タイトル： Python 3.12.0 alpha 2 released\n",
      "日付： 2022-11-15\n",
      "============================ 2 ============================\n",
      "タイトル： It's time for our annual year-end PSF fundraiser and membership drive 🎉\n",
      "日付： 2022-11-07\n",
      "============================ 3 ============================\n",
      "タイトル： Thank You for Making PyCon US amazing, Jackie!\n",
      "日付： 2022-11-01\n",
      "============================ 4 ============================\n",
      "タイトル： Announcing Python Software Foundation Fellow Members for Q3 2022! 🎉\n",
      "日付： 2022-10-26\n"
     ]
    }
   ],
   "source": [
    "import requests\n",
    "from bs4 import BeautifulSoup\n",
    "\n",
    "url = 'https://www.python.org/'\n",
    "r = requests.get(url)\n",
    "\n",
    "soup = BeautifulSoup(r.content, 'lxml')\n",
    "tag = soup.find('div', class_='shrubbery')\n",
    "#print(soup.find('div', class_='shrubbery'))\n",
    "#print(tag.find_all('li'))\n",
    "for i, li in enumerate(tag.find_all('li')):\n",
    "    print('============================', i, '============================')\n",
    "    print('タイトル：', li.find('a').text)\n",
    "    print('日付：', li.find('time').text)"
   ]
  },
  {
   "cell_type": "code",
   "execution_count": null,
   "metadata": {},
   "outputs": [],
   "source": []
  },
  {
   "cell_type": "code",
   "execution_count": null,
   "metadata": {},
   "outputs": [],
   "source": []
  }
 ],
 "metadata": {
  "kernelspec": {
   "display_name": "Python 3",
   "language": "python",
   "name": "python3"
  },
  "language_info": {
   "codemirror_mode": {
    "name": "ipython",
    "version": 3
   },
   "file_extension": ".py",
   "mimetype": "text/x-python",
   "name": "python",
   "nbconvert_exporter": "python",
   "pygments_lexer": "ipython3",
   "version": "3.6.5"
  }
 },
 "nbformat": 4,
 "nbformat_minor": 2
}
