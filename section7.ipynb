{
 "cells": [
  {
   "cell_type": "code",
   "execution_count": 2,
   "id": "e083e595",
   "metadata": {},
   "outputs": [
    {
     "name": "stdout",
     "output_type": "stream",
     "text": [
      "             会社名                                   企業ホームページ\n",
      "0   株式会社タスク・フォース             http://www.taskforce-pr.co.jp/\n",
      "1   旭化成リフォーム株式会社               https://hebelian.com/reform/\n",
      "2       大東建託株式会社                https://bldn9kyrd.jbplt.jp/\n",
      "3      株式会社イオン銀行             https://www.aeonbank.co.jp/cm/\n",
      "4    株式会社エフアンドエム                   https://www.fmltd.co.jp/\n",
      "5     株式会社プログリット                 https://www.progrit.co.jp/\n",
      "6       大東建託株式会社                https://bldn9kyrd.jbplt.jp/\n",
      "7  ロイヤルハウジング株式会社  http://www.royal-h.jp/company/gaiyou.html\n",
      "8    株式会社ビッグモーター                  http://www.bigmotor.co.jp\n"
     ]
    }
   ],
   "source": [
    "import pandas as pd\n",
    "import requests\n",
    "import re\n",
    "from bs4 import BeautifulSoup\n",
    "from time import sleep\n",
    "\n",
    "deta = []\n",
    "base_url = 'https://next.rikunabi.com'\n",
    "\n",
    "for i in range(3):\n",
    "    url = 'https://next.rikunabi.com/rnc/docs/cp_s00700.jsp?jb_type_long_cd=0100000000&wrk_plc_long_cd=0313000000&wrk_plc_long_cd=0313100000&wrk_plc_long_cd=0314000000&curnum={}'\n",
    "    sleep(1)\n",
    "    r = requests.get(url.format(i * 50 + 1))\n",
    "    r.raise_for_status()\n",
    "\n",
    "    soup = BeautifulSoup(r.content, 'lxml')\n",
    "    #jobs = soup.find_all('div', class_='jobNameArea')\n",
    "    jobs = soup.select('.rnn-jobOfferList__item__company')\n",
    "    #print(jobs)\n",
    "\n",
    "    for job in jobs[:3]:\n",
    "        company_page_url = base_url + job.select_one('p a').get('href')\n",
    "        #print(company_page_url)\n",
    "        sleep(1)\n",
    "        company_detail_r = requests.get(company_page_url)\n",
    "        company_detail_r.raise_for_status()\n",
    "        company_detail_soup = BeautifulSoup(company_detail_r.content, 'lxml')\n",
    "        company_name = company_detail_soup.select_one('.rnn-breadcrumb').select_one('li:last-of-type').text\n",
    "        table = company_detail_soup.select_one('.rnn-detailTable')\n",
    "        company_url = table.select_one('a:last-of-type').get('href')\n",
    "\n",
    "        detam = {\n",
    "                    '会社名': company_name,\n",
    "                    '企業ホームページ': company_url\n",
    "                }\n",
    "\n",
    "        deta.append(detam)\n",
    "\n",
    "df = pd.DataFrame(deta).reindex(columns=['会社名', '企業ホームページ'])\n",
    "print(df)\n",
    "\n",
    "df.to_csv('section7.csv', index=None, encoding='utf-8-sig')"
   ]
  },
  {
   "cell_type": "code",
   "execution_count": null,
   "id": "fce940ea",
   "metadata": {},
   "outputs": [],
   "source": []
  },
  {
   "cell_type": "code",
   "execution_count": null,
   "id": "5cacf306",
   "metadata": {},
   "outputs": [],
   "source": []
  }
 ],
 "metadata": {
  "kernelspec": {
   "display_name": "Python 3 (ipykernel)",
   "language": "python",
   "name": "python3"
  },
  "language_info": {
   "codemirror_mode": {
    "name": "ipython",
    "version": 3
   },
   "file_extension": ".py",
   "mimetype": "text/x-python",
   "name": "python",
   "nbconvert_exporter": "python",
   "pygments_lexer": "ipython3",
   "version": "3.9.13"
  }
 },
 "nbformat": 4,
 "nbformat_minor": 5
}
