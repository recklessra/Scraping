{
 "cells": [
  {
   "cell_type": "code",
   "execution_count": 14,
   "id": "90cc91d3",
   "metadata": {},
   "outputs": [
    {
     "name": "stdout",
     "output_type": "stream",
     "text": [
      "[<ol class=\"study-list\" id=\"step1\">\n",
      "<li>Python基礎</li>\n",
      "<li>HTML基礎</li>\n",
      "</ol>, <ol class=\"study-list\" id=\"step2\">\n",
      "<li>JS基礎</li>\n",
      "<li>Pythonライブラリ基礎</li>\n",
      "</ol>]\n",
      "[<ol class=\"study-list\" id=\"step1\">\n",
      "<li>Python基礎</li>\n",
      "<li>HTML基礎</li>\n",
      "</ol>, <ol class=\"study-list\" id=\"step2\">\n",
      "<li>JS基礎</li>\n",
      "<li>Pythonライブラリ基礎</li>\n",
      "</ol>]\n"
     ]
    }
   ],
   "source": [
    "from bs4 import BeautifulSoup\n",
    "\n",
    "html = \"\"\"\n",
    "<body>\n",
    "    <h1>タイトル</h1>\n",
    "    <h2>演習内容</h2>\n",
    "    <ol id=\"step1\", class=\"study-list\">\n",
    "        <li>Python基礎</li>\n",
    "        <li>HTML基礎</li>\n",
    "    </ol>\n",
    "    <ol id=\"step2\", class=\"study-list\">\n",
    "        <li>JS基礎</li>\n",
    "        <li>Pythonライブラリ基礎</li>\n",
    "    </ol>\n",
    "</body>\n",
    "\"\"\"\n",
    "\n",
    "soup = BeautifulSoup(html, 'lxml')\n",
    "print(soup.find_all(class_='study-list'))\n",
    "print(soup.select('.study-list'))"
   ]
  },
  {
   "cell_type": "code",
   "execution_count": 16,
   "id": "b3797478",
   "metadata": {},
   "outputs": [
    {
     "name": "stdout",
     "output_type": "stream",
     "text": [
      "[<h1>タイトル</h1>, <h2>演習内容</h2>]\n",
      "[<h1>タイトル</h1>, <h2>演習内容</h2>]\n"
     ]
    }
   ],
   "source": [
    "from bs4 import BeautifulSoup\n",
    "\n",
    "html = \"\"\"\n",
    "<body>\n",
    "    <h1>タイトル</h1>\n",
    "    <h2>演習内容</h2>\n",
    "    <ol id=\"step1\", class=\"study-list\">\n",
    "        <li>Python基礎</li>\n",
    "        <li>HTML基礎</li>\n",
    "    </ol>\n",
    "    <ol id=\"step2\", class=\"study-list\">\n",
    "        <li>JS基礎</li>\n",
    "        <li>Pythonライブラリ基礎</li>\n",
    "    </ol>\n",
    "</body>\n",
    "\"\"\"\n",
    "\n",
    "soup = BeautifulSoup(html, 'lxml')\n",
    "print(soup.find_all(['h1', 'h2']))\n",
    "print(soup.select('h1, h2'))"
   ]
  },
  {
   "cell_type": "code",
   "execution_count": 19,
   "id": "a60beeb2",
   "metadata": {},
   "outputs": [
    {
     "name": "stdout",
     "output_type": "stream",
     "text": [
      "[<li>JS基礎</li>, <li>Pythonライブラリ基礎</li>]\n",
      "[<li>JS基礎</li>, <li>Pythonライブラリ基礎</li>]\n",
      "[<li>JS基礎</li>, <li>Pythonライブラリ基礎</li>]\n"
     ]
    }
   ],
   "source": [
    "from bs4 import BeautifulSoup\n",
    "\n",
    "html = \"\"\"\n",
    "<body>\n",
    "    <h1>タイトル</h1>\n",
    "    <h2>演習内容</h2>\n",
    "    <ol id=\"step1\", class=\"study-list\">\n",
    "        <li>Python基礎</li>\n",
    "        <li>HTML基礎</li>\n",
    "    </ol>\n",
    "    <ol id=\"step2\", class=\"study-list\">\n",
    "        <li>JS基礎</li>\n",
    "        <li>Pythonライブラリ基礎</li>\n",
    "    </ol>\n",
    "</body>\n",
    "\"\"\"\n",
    "\n",
    "soup = BeautifulSoup(html, 'lxml')\n",
    "print(soup.find(id='step2').find_all('li'))\n",
    "print(soup.select('#step2 li'))\n",
    "print(soup.select('#step2 > li'))"
   ]
  },
  {
   "cell_type": "code",
   "execution_count": 23,
   "id": "5b1274ea",
   "metadata": {},
   "outputs": [
    {
     "name": "stdout",
     "output_type": "stream",
     "text": [
      "<li>Python基礎</li>\n",
      "<li>Python基礎</li>\n",
      "<li>HTML基礎</li>\n"
     ]
    }
   ],
   "source": [
    "from bs4 import BeautifulSoup\n",
    "\n",
    "html = \"\"\"\n",
    "<body>\n",
    "    <h1>タイトル</h1>\n",
    "    <h2>演習内容</h2>\n",
    "    <ol id=\"step1\", class=\"study-list\">\n",
    "        <li>Python基礎</li>\n",
    "        <li>HTML基礎</li>\n",
    "        <li>JS基礎</li>\n",
    "        <li>Pythonライブラリ基礎</li>\n",
    "    </ol>\n",
    "</body>\n",
    "\"\"\"\n",
    "\n",
    "soup = BeautifulSoup(html, 'lxml')\n",
    "\n",
    "print(soup.select_one('li:first-of-type'))\n",
    "print(soup.select_one('li:first-of-type'))\n",
    "print(soup.select_one('li:nth-of-type(2)'))"
   ]
  },
  {
   "cell_type": "code",
   "execution_count": 24,
   "id": "11d34e29",
   "metadata": {},
   "outputs": [
    {
     "name": "stdout",
     "output_type": "stream",
     "text": [
      "[<li>Python基礎</li>, <li>JS基礎</li>, <li>Pythonライブラリ基礎</li>]\n"
     ]
    }
   ],
   "source": [
    "from bs4 import BeautifulSoup\n",
    "\n",
    "html = \"\"\"\n",
    "<body>\n",
    "    <h1>タイトル</h1>\n",
    "    <h2>演習内容</h2>\n",
    "    <ol id=\"step1\", class=\"study-list\">\n",
    "        <li>Python基礎</li>\n",
    "        <li id=\"target\">HTML基礎</li>\n",
    "        <li>JS基礎</li>\n",
    "        <li>Pythonライブラリ基礎</li>\n",
    "    </ol>\n",
    "</body>\n",
    "\"\"\"\n",
    "\n",
    "soup = BeautifulSoup(html, 'lxml')\n",
    "\n",
    "print(soup.select('li:not(#target)'))"
   ]
  },
  {
   "cell_type": "code",
   "execution_count": 30,
   "id": "d4f383eb",
   "metadata": {},
   "outputs": [
    {
     "name": "stdout",
     "output_type": "stream",
     "text": [
      "[<li class=\"python-list2\" value=\"10\">Pythonライブラリ基礎</li>]\n",
      "[<li class=\"python-list2\" value=\"10\">Pythonライブラリ基礎</li>]\n"
     ]
    }
   ],
   "source": [
    "from bs4 import BeautifulSoup\n",
    "\n",
    "html = \"\"\"\n",
    "<body>\n",
    "    <h1>タイトル</h1>\n",
    "    <h2>演習内容</h2>\n",
    "    <ol id=\"step1\", class=\"study-list\">\n",
    "        <li class=\"python-list\">Python基礎</li>\n",
    "        <li class=\"html-list\" value=\"3\">HTML基礎</li>\n",
    "        <li class=\"js-list\">JS基礎</li>\n",
    "        <li class=\"python-list2\" value=\"10\">Pythonライブラリ基礎</li>\n",
    "        <li class=\"html-js-list\">フロントエンド基礎</li>\n",
    "    </ol>\n",
    "</body>\n",
    "\"\"\"\n",
    "\n",
    "soup = BeautifulSoup(html, 'lxml')\n",
    "\n",
    "print(soup.select('li[value=\"10\"]'))\n",
    "print(soup.select('li[class$=\"2\"]'))"
   ]
  },
  {
   "cell_type": "code",
   "execution_count": 32,
   "id": "73b451b9",
   "metadata": {},
   "outputs": [
    {
     "name": "stdout",
     "output_type": "stream",
     "text": [
      "[<li class=\"python-list\">Python基礎</li>, <li class=\"python-list2\" value=\"10\">Pythonライブラリ基礎</li>]\n"
     ]
    }
   ],
   "source": [
    "from bs4 import BeautifulSoup\n",
    "\n",
    "html = \"\"\"\n",
    "<body>\n",
    "    <h1>タイトル</h1>\n",
    "    <h2>演習内容</h2>\n",
    "    <ol id=\"step1\", class=\"study-list\">\n",
    "        <li class=\"python-list\">Python基礎</li>\n",
    "        <li class=\"html-list\" value=\"3\">HTML基礎</li>\n",
    "        <li class=\"js-list\">JS基礎</li>\n",
    "        <li class=\"python-list2\" value=\"10\">Pythonライブラリ基礎</li>\n",
    "        <li class=\"html-js-list\">フロントエンド基礎</li>\n",
    "    </ol>\n",
    "</body>\n",
    "\"\"\"\n",
    "\n",
    "soup = BeautifulSoup(html, 'lxml')\n",
    "\n",
    "print(soup.select('li:-soup-contains(\"Python\")'))"
   ]
  },
  {
   "cell_type": "code",
   "execution_count": null,
   "id": "f7af7b3b",
   "metadata": {},
   "outputs": [],
   "source": []
  }
 ],
 "metadata": {
  "kernelspec": {
   "display_name": "Python 3 (ipykernel)",
   "language": "python",
   "name": "python3"
  },
  "language_info": {
   "codemirror_mode": {
    "name": "ipython",
    "version": 3
   },
   "file_extension": ".py",
   "mimetype": "text/x-python",
   "name": "python",
   "nbconvert_exporter": "python",
   "pygments_lexer": "ipython3",
   "version": "3.9.13"
  }
 },
 "nbformat": 4,
 "nbformat_minor": 5
}
