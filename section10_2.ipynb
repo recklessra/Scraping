{
 "cells": [
  {
   "cell_type": "code",
   "execution_count": 17,
   "id": "e9cd025d",
   "metadata": {},
   "outputs": [
    {
     "name": "stdout",
     "output_type": "stream",
     "text": [
      "住宅型有料老人ホーム　いこいの里　糸島\n",
      "https://atsumaru.jp/area/detail?kno=X108053&said=7&shn=980&vol=00001\n",
      "福岡県糸島市荻浦5丁目10番1号\n"
     ]
    },
    {
     "ename": "AttributeError",
     "evalue": "'NoneType' object has no attribute 'text'",
     "output_type": "error",
     "traceback": [
      "\u001b[1;31m---------------------------------------------------------------------------\u001b[0m",
      "\u001b[1;31mAttributeError\u001b[0m                            Traceback (most recent call last)",
      "\u001b[1;32m~\\AppData\\Local\\Temp\\ipykernel_2368\\2759208532.py\u001b[0m in \u001b[0;36m<module>\u001b[1;34m\u001b[0m\n\u001b[0;32m     25\u001b[0m     \u001b[0mprint\u001b[0m\u001b[1;33m(\u001b[0m\u001b[0madd\u001b[0m\u001b[1;33m)\u001b[0m\u001b[1;33m\u001b[0m\u001b[1;33m\u001b[0m\u001b[0m\n\u001b[0;32m     26\u001b[0m \u001b[1;33m\u001b[0m\u001b[0m\n\u001b[1;32m---> 27\u001b[1;33m     \u001b[0mphone_no\u001b[0m \u001b[1;33m=\u001b[0m \u001b[0mdetail_soup\u001b[0m\u001b[1;33m.\u001b[0m\u001b[0mselect_one\u001b[0m\u001b[1;33m(\u001b[0m\u001b[1;34m'div.telNo > i'\u001b[0m\u001b[1;33m)\u001b[0m\u001b[1;33m.\u001b[0m\u001b[0mtext\u001b[0m\u001b[1;33m\u001b[0m\u001b[1;33m\u001b[0m\u001b[0m\n\u001b[0m\u001b[0;32m     28\u001b[0m \u001b[1;33m\u001b[0m\u001b[0m\n\u001b[0;32m     29\u001b[0m     \u001b[0mprint\u001b[0m\u001b[1;33m(\u001b[0m\u001b[0mphone_no\u001b[0m\u001b[1;33m)\u001b[0m\u001b[1;33m\u001b[0m\u001b[1;33m\u001b[0m\u001b[0m\n",
      "\u001b[1;31mAttributeError\u001b[0m: 'NoneType' object has no attribute 'text'"
     ]
    }
   ],
   "source": [
    "from time import sleep\n",
    "from bs4 import BeautifulSoup\n",
    "import requests\n",
    "\n",
    "soup = BeautifulSoup(open('company_list.html', encoding='utf-8'), 'lxml')\n",
    "\n",
    "jobs = soup.select('div.bl_card2')\n",
    "\n",
    "base_url = 'https://atsumaru.jp'\n",
    "\n",
    "for job in jobs[:3]:\n",
    "    company_info = job.select_one('span.bl_card2_ttl_text > a')\n",
    "    \n",
    "    company_name = company_info.text\n",
    "    print(company_name)\n",
    "    \n",
    "    company_url = base_url + company_info.get('href')\n",
    "    print(company_url)\n",
    "    \n",
    "    r = requests.get(company_url)\n",
    "    r.raise_for_status()\n",
    "    \n",
    "    detail_soup = BeautifulSoup(r.content, 'lxml')\n",
    "    add = detail_soup.select_one('div.bl_card2_infoWrap > div:nth-of-type(3) p:first-of-type').text\n",
    "    print(add)\n",
    "\n",
    "    phone_no = detail_soup.select_one('div.telNo > i').text\n",
    "    \n",
    "    print(phone_no)\n",
    "    \n",
    "\n",
    "print(len(jobs))"
   ]
  },
  {
   "cell_type": "code",
   "execution_count": 31,
   "id": "7ae5e538",
   "metadata": {},
   "outputs": [
    {
     "name": "stdout",
     "output_type": "stream",
     "text": [
      "                   会社名                       住所          電話番号\n",
      "0  住宅型有料老人ホーム　いこいの里　糸島         福岡県糸島市荻浦5丁目10番1号  092-330-7700\n",
      "1           東横イン　博多西中洲            福岡市中央区西中洲1-16  092-739-1045\n",
      "2            株式会社　協栄開発  福岡市東区松島5丁目18-30(福岡オフィス)  092-621-7888\n"
     ]
    }
   ],
   "source": [
    "from time import sleep\n",
    "from bs4 import BeautifulSoup\n",
    "import requests\n",
    "import pandas as pd\n",
    "\n",
    "soup = BeautifulSoup(open('company_list.html', encoding='utf-8'), 'lxml')\n",
    "\n",
    "jobs = soup.select('div.bl_card2')\n",
    "\n",
    "base_url = 'https://atsumaru.jp'\n",
    "\n",
    "deta = []\n",
    "\n",
    "for job in jobs[:3]:\n",
    "    \n",
    "    company_info = job.select_one('span.bl_card2_ttl_text > a')\n",
    "    company_url = base_url + company_info.get('href')\n",
    "    \n",
    "    r = requests.get(company_url)\n",
    "    r.raise_for_status()\n",
    "    \n",
    "    detail_soup = BeautifulSoup(r.content, 'lxml')\n",
    "    company_name = detail_soup.select_one('span.bl_card2_ttl_text').text\n",
    "    #print(company_name)\n",
    "    address = detail_soup.select_one('td:-soup-contains(\"地図はこちら\") > p:first-of-type').text\n",
    "    #print(address)\n",
    "    tel_no = detail_soup.select_one('div.telNo > p > strong > a').text\n",
    "    #print(tel_no)\n",
    "    \n",
    "    detam = {\n",
    "        '会社名': company_name,\n",
    "        '住所': address,\n",
    "        '電話番号': tel_no\n",
    "    }\n",
    "    \n",
    "    deta.append(detam)\n",
    "    \n",
    "df = pd.DataFrame(deta)\n",
    "print(df)\n",
    "\n",
    "df.to_csv('section10.csv', index=None, encoding='utf-8-sig')\n",
    "#df.to_excel('python_web_posts.xlsx', index=None, encoding='utf-8-sig')\n"
   ]
  },
  {
   "cell_type": "code",
   "execution_count": null,
   "id": "b2351b95",
   "metadata": {},
   "outputs": [],
   "source": []
  }
 ],
 "metadata": {
  "kernelspec": {
   "display_name": "Python 3 (ipykernel)",
   "language": "python",
   "name": "python3"
  },
  "language_info": {
   "codemirror_mode": {
    "name": "ipython",
    "version": 3
   },
   "file_extension": ".py",
   "mimetype": "text/x-python",
   "name": "python",
   "nbconvert_exporter": "python",
   "pygments_lexer": "ipython3",
   "version": "3.9.13"
  }
 },
 "nbformat": 4,
 "nbformat_minor": 5
}
